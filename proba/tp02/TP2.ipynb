{
 "cells": [
  {
   "cell_type": "markdown",
   "id": "0b29645f-25f1-46b9-ac6f-044beace2611",
   "metadata": {},
   "source": [
    "# TP 2 : Variables alÃ©atoires discrÃ¨tes"
   ]
  },
  {
   "cell_type": "markdown",
   "id": "0c625940-ed8a-4d81-b1ce-0ec833b52265",
   "metadata": {},
   "source": [
    "Nous utiliserons principalement le module `random` de `numpy`. Dans la nouvelle syntaxe de ce module, \n",
    "\n",
    "Pour gÃ©nÃ©rer des nombres pseudo alÃ©atoires, un objet de type `Generator` (ici appelÃ© `rng`) doit d'abord Ãªtre dÃ©fini.  Par dÃ©faut, l'algorithme utilisÃ© pour gÃ©nÃ©rer ces nombres est le `PCG64` Ã  la diffÃ©rence de l'algorithme de Mersenne-Twister qui Ã©tait le standard auparavant. "
   ]
  },
  {
   "cell_type": "code",
   "execution_count": 3,
   "id": "186db87a-839f-4491-b8f9-6c37a04b02a6",
   "metadata": {},
   "outputs": [
    {
     "name": "stdout",
     "output_type": "stream",
     "text": [
      "Le type de l'objet rng est :  Generator(PCG64)\n"
     ]
    }
   ],
   "source": [
    "import numpy as np\n",
    "rng = np.random.default_rng()\n",
    "print(\"Le type de l'objet rng est : \", rng)"
   ]
  },
  {
   "cell_type": "markdown",
   "id": "2b46832e-cff3-498d-ab9c-030d77395ac5",
   "metadata": {},
   "source": [
    "DiffÃ©rentes loi peuvent Ãªtre gÃ©nÃ©rÃ©es Ã  l'aide de mÃ©thodes listÃ©es ci-dessous. "
   ]
  },
  {
   "cell_type": "code",
   "execution_count": 19,
   "id": "4fba4076-977b-45c2-bb12-dc9d3fc8213b",
   "metadata": {},
   "outputs": [
    {
     "name": "stdout",
     "output_type": "stream",
     "text": [
      "MÃ©thodes utilisables avec l'objet rng :  ['__class__', '__delattr__', '__dir__', '__doc__', '__eq__', '__format__', '__ge__', '__getattribute__', '__getstate__', '__gt__', '__hash__', '__init__', '__init_subclass__', '__le__', '__lt__', '__ne__', '__new__', '__reduce__', '__reduce_ex__', '__repr__', '__setattr__', '__setstate__', '__sizeof__', '__str__', '__subclasshook__', '_bit_generator', '_poisson_lam_max', 'beta', 'binomial', 'bit_generator', 'bytes', 'chisquare', 'choice', 'dirichlet', 'exponential', 'f', 'gamma', 'geometric', 'gumbel', 'hypergeometric', 'integers', 'laplace', 'logistic', 'lognormal', 'logseries', 'multinomial', 'multivariate_hypergeometric', 'multivariate_normal', 'negative_binomial', 'noncentral_chisquare', 'noncentral_f', 'normal', 'pareto', 'permutation', 'permuted', 'poisson', 'power', 'random', 'rayleigh', 'shuffle', 'spawn', 'standard_cauchy', 'standard_exponential', 'standard_gamma', 'standard_normal', 'standard_t', 'triangular', 'uniform', 'vonmises', 'wald', 'weibull', 'zipf']\n"
     ]
    }
   ],
   "source": [
    "\n",
    "print(\"MÃ©thodes utilisables avec l'objet rng : \", dir(rng))"
   ]
  },
  {
   "cell_type": "markdown",
   "id": "db912608-7e9c-4a25-96f0-769dec5b16de",
   "metadata": {},
   "source": [
    "## Exercice 1 : Loi de Bernoulli \n",
    "\n"
   ]
  },
  {
   "cell_type": "markdown",
   "id": "17214245-eb87-42ea-930f-50f250ac21de",
   "metadata": {},
   "source": [
    "On peut simuler une variable alÃ©atoire $\\mathcal B (n,p)$ Ã  l'aide de la mÃ©thode `binomial`. "
   ]
  },
  {
   "cell_type": "code",
   "execution_count": null,
   "id": "03e08536-6851-4299-b54f-4ecf0d4b6be9",
   "metadata": {},
   "outputs": [],
   "source": [
    "?rng.binomial # documentation "
   ]
  },
  {
   "cell_type": "code",
   "execution_count": 40,
   "id": "56663c8d-0acc-4b87-b818-e33e679f2677",
   "metadata": {},
   "outputs": [
    {
     "name": "stdout",
     "output_type": "stream",
     "text": [
      "1\n"
     ]
    }
   ],
   "source": [
    "x = rng.binomial(n=1, p=0.3)\n",
    "print(x)"
   ]
  },
  {
   "cell_type": "markdown",
   "id": "34fc3e31-9f33-4ca3-8361-7b5ae6b61e01",
   "metadata": {},
   "source": [
    "### 1. CrÃ©er un array de taille $N=10$ donc chacun des Ã©lÃ©ments contient un tirage d'une loi de de Bernouilli de paramÃ¨tre $p=0.45$. "
   ]
  },
  {
   "cell_type": "code",
   "execution_count": 174,
   "id": "7dcf4e85-c61a-49e0-b2ae-f02dd5b64558",
   "metadata": {},
   "outputs": [
    {
     "name": "stdout",
     "output_type": "stream",
     "text": [
      "[1 0 0 0 1 1 1 1 0 1]\n"
     ]
    }
   ],
   "source": [
    "# RÃ©ponse \n",
    "N = 10\n",
    "prob = 0.55\n",
    "x = rng.binomial(n=1, p = prob, size= N)\n",
    "print(x)"
   ]
  },
  {
   "cell_type": "markdown",
   "id": "205920bf-9972-4092-ba49-6c15c0027104",
   "metadata": {},
   "source": [
    "### 2. Calculer la frÃ©quence de  1. "
   ]
  },
  {
   "cell_type": "code",
   "execution_count": 177,
   "id": "5e5c7cee-d6e7-476e-8efb-bbe9d603c56a",
   "metadata": {},
   "outputs": [
    {
     "data": {
      "text/plain": [
       "0.6"
      ]
     },
     "execution_count": 177,
     "metadata": {},
     "output_type": "execute_result"
    }
   ],
   "source": [
    "# RÃ©ponse \n",
    "np.sum(x==1)/N"
   ]
  },
  {
   "cell_type": "markdown",
   "id": "d2b5dbd1-ac55-4afb-9f0e-a4df21345e7e",
   "metadata": {},
   "source": [
    "### 3.  CrÃ©er un vecteur `freq` de taille  100 contenant la fÃ©quence de 1 pour un nombre de tirage $n$ variant entre 50 et 5000.\n",
    "\n",
    "*On pourra utiliser la fonction* `cumsum` de `numpy`. "
   ]
  },
  {
   "cell_type": "code",
   "execution_count": 25,
   "id": "1d220a9e-6886-46b8-967a-e58bede0bc6a",
   "metadata": {},
   "outputs": [
    {
     "name": "stdout",
     "output_type": "stream",
     "text": [
      "[1 1 1 ... 1 1 0]\n",
      "[   1    2    3 ... 2772 2773 2773]\n",
      "[0.62       0.60784314 0.59615385 ... 0.55453272 0.55462185 0.55471094]\n"
     ]
    }
   ],
   "source": [
    "tirages = rng.binomial(n=1, p=0.55, size=5000)\n",
    "cumul = np.cumsum(tirages)\n",
    "vecteur = np.arange(50, 5000, 1)\n",
    "freq = cumul[49:4999] / vecteur\n",
    "print(tirages)\n",
    "print(cumul)\n",
    "print(freq)"
   ]
  },
  {
   "cell_type": "markdown",
   "id": "ea08b2ae-eb09-42a2-8425-c0c701cee841",
   "metadata": {},
   "source": [
    "### 4. ReprÃ©senter graphiquement l'Ã©volution de la frÃ©quence de 1. Que remarque-t-on? "
   ]
  },
  {
   "cell_type": "code",
   "execution_count": 26,
   "id": "5852b20e-fdde-4480-bd15-8e535e31d69c",
   "metadata": {},
   "outputs": [
    {
     "data": {
      "text/plain": [
       "Text(0.5, 1.0, 'Évolution de la fréquence de 1 en fonction du nombre de tirages')"
      ]
     },
     "execution_count": 26,
     "metadata": {},
     "output_type": "execute_result"
    },
    {
     "data": {
      "image/png": "[encoded data removed]",
      "text/plain": [
       "<Figure size 640x480 with 1 Axes>"
      ]
     },
     "metadata": {},
     "output_type": "display_data"
    }
   ],
   "source": [
    "plt.plot(vecteur, freq, label='Fréquence de 1')\n",
    "plt.xlabel('Nombre de tirages')\n",
    "plt.ylabel('Fréquence observée de 1')\n",
    "plt.title('Évolution de la fréquence de 1 en fonction du nombre de tirages')"
   ]
  },
  {
   "cell_type": "markdown",
   "id": "3f0987c9-90f7-4b8a-a0c9-e3505ad0c381",
   "metadata": {},
   "source": [
    "## Exercice 2 : loi binomial "
   ]
  },
  {
   "cell_type": "markdown",
   "id": "b626784c-3710-496c-9adb-91089b951185",
   "metadata": {},
   "source": [
    "### 1. DÃ©finir une fonction `binomiale_TP` prenant en argument un entier $n$ et un rÃ©el $p \\in [0,1]$, et qui renvoie un tirage de loi de $\\mathcal B(n,p)$, en se servant uniquement de variables alÃ©atoires de Bernoulli. "
   ]
  },
  {
   "cell_type": "code",
   "execution_count": null,
   "id": "d602f25e-05e8-48c6-b983-13c306e39c67",
   "metadata": {},
   "outputs": [],
   "source": []
  },
  {
   "cell_type": "markdown",
   "id": "68249889-30d3-4368-ac82-94466fbbbb51",
   "metadata": {},
   "source": [
    "### 2. CrÃ©er un array  de taille $N=1000$ contenant $N$ tirages indÃ©pendants de loi $\\mathcal B (n,p)$, avec $n=20$  et $p=0.5$"
   ]
  },
  {
   "cell_type": "code",
   "execution_count": null,
   "id": "37e766fc-92d2-40ff-bf1f-82b33c9bc361",
   "metadata": {},
   "outputs": [],
   "source": []
  },
  {
   "cell_type": "markdown",
   "id": "cd72e115-3dfe-48de-9c8f-ed15185fad4a",
   "metadata": {},
   "source": [
    "### 3. RÃ©prÃ©senter la frÃ©quence des Ã©vÃ©nements $\\{k\\}$, pour $1\\leq k \\leq n$, Ã  l'aide d'un diagramme en baton.\n",
    "\n",
    "*On pourra utiliser la fonction `bincount` de `numpy` et  `bar`de `matplotlib`*"
   ]
  },
  {
   "cell_type": "markdown",
   "id": "1891323d-74bd-4d09-b92c-5c72a3fbf8ce",
   "metadata": {},
   "source": [
    "### 4. Comparaison avec la loi binomiale\n",
    "\n",
    "a. **Utilisation du module `stats` de `scipy`** \n",
    "\n",
    "Importer le module `stats` de la librairie `scipy`. Ce module trÃ¨s utile permets (entre autre) d'accÃ©der aux fonctions de bases pour une loi donnÃ©e. \n",
    "\n",
    "Lire la documentation de la classe `stats.binom`. En particulier, que permet de calculer la mÃ©thode `pmf`?"
   ]
  },
  {
   "cell_type": "code",
   "execution_count": 238,
   "id": "9a1d1ade-abd8-4df9-bbd4-001b57d92906",
   "metadata": {},
   "outputs": [],
   "source": [
    "from scipy import stats"
   ]
  },
  {
   "cell_type": "code",
   "execution_count": 229,
   "id": "dd94cce5-cc59-4eb5-aa92-3f0c59062672",
   "metadata": {},
   "outputs": [],
   "source": [
    "#?stats.binom"
   ]
  },
  {
   "cell_type": "markdown",
   "id": "6de4b075-d97c-44f0-8c75-d17a1bbb66a0",
   "metadata": {},
   "source": [
    "b. Reprendre la question 2, et ajouter sur le mÃªme graphique les vraies valeurs des probabilitÃ©s $\\mathbb P (S = k)$ pour $S$ une variable alÃ©atoire $\\mathcal B(n,p)$. \n",
    "\n",
    "Pour diffÃ©rencier les frÃ©quences des probabilitÃ©s, vous pourrez utiliser une couleur diffÃ©rente et la mÃ©thode `vlines`. Ajouter Ã©galement un titre et une lÃ©gende au graphique.     "
   ]
  },
  {
   "cell_type": "code",
   "execution_count": null,
   "id": "adc028fc-1c0c-4c5b-b345-68b87fd465c4",
   "metadata": {},
   "outputs": [],
   "source": []
  },
  {
   "cell_type": "markdown",
   "id": "8d022f24-c422-4a55-8780-bfb526e74b9f",
   "metadata": {},
   "source": [
    "### 5. Une fonction plus efficace\n",
    "\n",
    "DÃ©finir une fonction `binomiale_efficace` prenant en argument un entier $n$, et rÃ©el $p \\in [0,1]$, et **un nombre de simulations N**, et qui renvoie un array de taille $N$ contenant $N$ tirages d'une loi binomiale $\\mathcal B(n,p)$, **sans utiliser de boucle `for`**. \n",
    "\n",
    "On s'appuira sur la manipulation d'array avec `numpy`."
   ]
  },
  {
   "cell_type": "code",
   "execution_count": null,
   "id": "e57fd7e5-5532-471a-b769-d2ca76117df7",
   "metadata": {},
   "outputs": [],
   "source": []
  },
  {
   "cell_type": "markdown",
   "id": "d4929968-a38d-4c41-9743-1d6e6e80598c",
   "metadata": {},
   "source": [
    "### 6. Refaire le graphique prÃ©cÃ©dent en utilisant la fonction `binomiale_efficace` et avec $N =10^5$. \n",
    "\n",
    "Comparer avec le cas $N=1000$. Que constate-t-on? "
   ]
  },
  {
   "cell_type": "code",
   "execution_count": null,
   "id": "d2d0883d-9c0f-4bb4-84ce-7fb6164fc01d",
   "metadata": {},
   "outputs": [],
   "source": []
  },
  {
   "cell_type": "markdown",
   "id": "9bea5bc5-2cf2-45d3-94d1-f874e39087c0",
   "metadata": {},
   "source": [
    "## Exercice 3 : Loi binomiale et loi de Poisson \n",
    "\n",
    "Soit $n$ entier et  $\\lambda =3$, et $k$ un entier fixÃ© entre 1 et $n$. \n",
    "\n",
    "### 1. Etude d'une convergence\n",
    "\n",
    "a. Sur un graphique, reprÃ©senter l'Ã©volution de $\\mathbb P (S_n = k)$, oÃ¹ $S_n$ suit une loi Binomiale $\\mathcal B (n, \\frac{\\lambda}{n})$  pour  $n$ allant de 5 Ã  50. \n",
    "On pourra le faire pour diffÃ©rentes valeurs de $k$ de votre choix.\n",
    "\n",
    "b. Ajouter sur la graphique une barre horizontale $y= \\mathbb P (X = k)$, avec $X$ une variable alÃ©atoire de Poisson de paramÃ¨tre 3. Pour cela, consulter la documentation de la classe `stats.poisson`.  Que constate-t-on? "
   ]
  },
  {
   "cell_type": "code",
   "execution_count": 276,
   "id": "d9daae0e-59bc-4091-80e8-3c5cf46aa97b",
   "metadata": {},
   "outputs": [],
   "source": [
    "#?stats.poisson"
   ]
  },
  {
   "cell_type": "markdown",
   "id": "f1ee24a7-88ec-49fc-9c99-150da964ba2c",
   "metadata": {},
   "source": [
    "### 2. Comparer graphiquement la loi binomiale $\\mathcal B(50, \\frac{\\lambda}{50})$ et la loi de Poisson $\\mathcal P (\\lambda)$. "
   ]
  },
  {
   "cell_type": "code",
   "execution_count": null,
   "id": "e778f272-96e4-432a-94c9-ec6350ece980",
   "metadata": {},
   "outputs": [],
   "source": []
  },
  {
   "cell_type": "markdown",
   "id": "86bce339-81e4-4645-a982-bbfe44a062dd",
   "metadata": {},
   "source": [
    "### 3. Comparer Ã©galement les moyennes et variances de ces deux lois. \n",
    "\n",
    "On pourra utiliser Ã  nouveau le module `stats` de `scipy`. "
   ]
  },
  {
   "cell_type": "code",
   "execution_count": null,
   "id": "ba5a0869-8136-4641-83c0-223466faa390",
   "metadata": {},
   "outputs": [],
   "source": []
  },
  {
   "cell_type": "markdown",
   "id": "21ac6471-2cdf-47a1-8ef0-be03caf2d44d",
   "metadata": {},
   "source": [
    "##  Exercice 4 : Ruine du joueur \n",
    "\n",
    "Imaginons 2 joueurs A et B qui dÃ©cident de miser leurs fortunes respectives $a$ et $b$ au jeu. Le jeu est le suivant: \n",
    "\n",
    "A chaque tour, les deux joueurs lancent une piÃ¨ce. \n",
    "- Avec une probabilitÃ© $p$, la piÃ¨ce tombe sur pile et dans ce cas le joueur $A$ donne 1 euro au joueur $B$.\n",
    "- Si la piÃ¨ce tombe sur face, alors le joueur B donne une piÃ¨ce de 1 euro au joueur A.\n",
    "\n",
    "On note $X_n$ la fortune du joueur A au temps $n$ ($X_0=a$), et \n",
    "\n",
    "$$ T_0 = \\inf_{n \\geq 0} \\{X_n = 0\\}, \\quad T_{a+b} = \\inf_{n \\geq 0} \\{X_{a+b} = 0\\}$$\n",
    "\n",
    "Le but de cet exercice est \"d'estimer\" la probabilitÃ© de ruine de A selon la valeur de $p$. \n",
    "\n",
    "**Question thÃ©oriques** \n",
    "1. DÃ©finir, Ã  l'aide des variables alÃ©atoires ci-dessus, une variable alÃ©atoire $R$ valant $1$ si $A$ gagne le jeu et 0 si $A$ est ruinÃ©. A quoi correspond la probabilitÃ© de ruine du joueur A? \n",
    "2. Soit $n \\geq 1$ Exprimer $X_n$ en fonction de $X_{n-1}$ et d'une variable alÃ©atoire $Z_n$ indÃ©pendante que l'on prÃ©cisera."
   ]
  },
  {
   "cell_type": "code",
   "execution_count": null,
   "id": "51d85c15-7f7c-47e8-a6ad-aefb173a48ac",
   "metadata": {},
   "outputs": [],
   "source": []
  },
  {
   "cell_type": "markdown",
   "id": "47f8e21a-7563-45c0-8626-4fd91145c1bf",
   "metadata": {},
   "source": [
    "3. Ecrire une fonction `jeu_ruine` prenant en argument $a$, $b$ et $p$, simulant une partie du jeu.\n",
    "\n",
    "On pourra renvoyer un array contenant la fortune du joueur A Ã  chaque tour, un entier correspondant Ã  la durÃ©e du jeu et la valeur de $R$.  \n",
    "\n",
    "ReprÃ©senter graphiquement un exemple de jeu. "
   ]
  },
  {
   "cell_type": "code",
   "execution_count": null,
   "id": "67927b9e-4b5a-47e2-8753-a9f59c56b266",
   "metadata": {},
   "outputs": [],
   "source": []
  },
  {
   "cell_type": "markdown",
   "id": "a7789ce7-8bc2-4e75-827e-558078da3404",
   "metadata": {},
   "source": [
    "4. Simuler un nombre $N$ de parties, et enregistrer dans un array de dimension 2 le nombre de tours de chaques partie et si A est gagnant ou ruinÃ©."
   ]
  },
  {
   "cell_type": "code",
   "execution_count": null,
   "id": "201b6d83-7e33-4725-bdd5-12b2d4287f60",
   "metadata": {},
   "outputs": [],
   "source": []
  },
  {
   "cell_type": "markdown",
   "id": "85a7595f-cfe8-43f1-9a1c-d20f8bb1d422",
   "metadata": {},
   "source": [
    "5. Calculer le nombre moyen de parties ou A a Ã©tÃ© ruinÃ©. Que pensez-vous du lien entre cette valeur et la probabilitÃ© de ruine? "
   ]
  },
  {
   "cell_type": "code",
   "execution_count": null,
   "id": "67bfc11f-16c4-4363-8979-827ccb59004a",
   "metadata": {},
   "outputs": [],
   "source": []
  }
 ],
 "metadata": {
  "kernelspec": {
   "display_name": "Python 3 (ipykernel)",
   "language": "python",
   "name": "python3"
  },
  "language_info": {
   "codemirror_mode": {
    "name": "ipython",
    "version": 3
   },
   "file_extension": ".py",
   "mimetype": "text/x-python",
   "name": "python",
   "nbconvert_exporter": "python",
   "pygments_lexer": "ipython3",
   "version": "3.13.7"
  }
 },
 "nbformat": 4,
 "nbformat_minor": 5
}
