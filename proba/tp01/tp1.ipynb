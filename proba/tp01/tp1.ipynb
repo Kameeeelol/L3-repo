{
 "cells": [
  {
   "cell_type": "markdown",
   "id": "0b29645f-25f1-46b9-ac6f-044beace2611",
   "metadata": {},
   "source": [
    "# TP 1 : BrÃ¨ve Introduction Ã   Python et aux notebook Jupyter"
   ]
  },
  {
   "cell_type": "markdown",
   "id": "601949f1-155e-41bd-b2ef-3f9ce67fc683",
   "metadata": {
    "incorrectly_encoded_metadata": "slideshow={\"slide_type\": \"subslide\"} toc-hr-collapsed=false"
   },
   "source": [
    "Python est un langage  de haut-niveau, trÃ¨s largement utilisÃ©. Le langage est caractÃ©risÃ© par de nombreuses librairies (modules) disponibles pour le **calcul scientifique** (alternative Ã  MATLAB/Scilab), **l'analyse de donnÃ©es** (alternative Ã  `R`) et le **machine learning** (`sklearn`) ou le **deep learning** (`pytorch`, `tensorflow`)."
   ]
  },
  {
   "cell_type": "markdown",
   "id": "3246ac69-ca98-4a36-b145-4ed27329a944",
   "metadata": {},
   "source": [
    "**RÃ©fÃ©rences**\n",
    "\n",
    "Pour une introduction plus dÃ©taillÃ©es au langage Python, vous pourrez vous rÃ©fÃ©rer aux excellents notebook de V. Lemaire (dont ce TP est largement inspirÃ©), accessible librement Ã : \n",
    "\n",
    "https://perso.lpsm.paris/~vlemaire/4ma074/tp/outils/bases_python.html\n",
    "\n",
    "https://perso.lpsm.paris/~vlemaire/4ma074/tp/outils/numpy.html\n",
    "\n",
    "https://perso.lpsm.paris/~vlemaire/4ma074/tp/outils/matplotlib.html"
   ]
  },
  {
   "cell_type": "markdown",
   "id": "2af725a5-53d2-4184-a9dd-86c9cb3bb8f2",
   "metadata": {},
   "source": [
    "## Notebook jupyter\n",
    "Un notebook est un document interactif, qui permet de mÃ©langer du texte et des lignes de code. Il est possible d'exÃ©cuter le code, de le modifier, et d'ajouter (ou de supprimer) des cellules de code ou de texte/formule en langage **markdown**.\n",
    "\n",
    "Pour lire ou Ã©diter un notebook (fichier au format .ipynb) vous pouvez ouvrir jupyter Ã  l'aide du navigateur Anaconda (normalement installÃ© en salle informatique). \n",
    "\n",
    "Pour  exÃ©cuter une cellule, il faut d'abord cliquer dans la cellule pour la sÃ©lectionner, puis faire `Shift+Enter`."
   ]
  },
  {
   "cell_type": "code",
   "execution_count": 182,
   "id": "2ae5ff5d-046c-4951-956d-5dee416948bc",
   "metadata": {},
   "outputs": [],
   "source": [
    "var = \"Bonjour\"\n",
    "x = 3"
   ]
  },
  {
   "cell_type": "code",
   "execution_count": 184,
   "id": "e750a5aa-de9d-402c-bf88-9774a75d865a",
   "metadata": {},
   "outputs": [
    {
     "name": "stdout",
     "output_type": "stream",
     "text": [
      "Bonjour\n",
      "3\n"
     ]
    }
   ],
   "source": [
    "print(var)\n",
    "print(x)"
   ]
  },
  {
   "cell_type": "markdown",
   "id": "7c0b295c-858d-48ef-9eec-bb6f7f61008d",
   "metadata": {},
   "source": [
    "Les variables `x` et `var` sont dÃ©finie et peuvent Ãªtre utilisÃ©e dans une cellule suivante. Attention,  Ã  chaque fois qu'une cellule est executÃ©e, la valeur de la variable est modifiÃ©e. \n",
    "\n",
    "**Exemple** Executer 2 fois la cellule ci-dessous et ajouter une cellule affichant la nouvelle valeur de `x`. "
   ]
  },
  {
   "cell_type": "code",
   "execution_count": 187,
   "id": "25ff19fe-0a22-4dd5-8444-83261ebfee11",
   "metadata": {},
   "outputs": [
    {
     "data": {
      "text/plain": [
       "9"
      ]
     },
     "execution_count": 187,
     "metadata": {},
     "output_type": "execute_result"
    }
   ],
   "source": [
    "x**2"
   ]
  },
  {
   "cell_type": "markdown",
   "id": "b3785af0-ab28-4353-9fbe-6dd185fcc06d",
   "metadata": {},
   "source": [
    "**IMPORTANT**\n",
    "\n",
    "Il arrive qu'aprÃ¨s de nombreuses execution de cellules,  on ne sache plus quelles sont les valeurs actuelles des diffÃ©rentes variables. Dans ce cas, il vaut mieux de reprendre Ã  zÃ©ro. Pour cela, sÃ©lectionnez **Kernel** en haut de la page et choissisez **Restart**. Vous pouvez observer que tous les numÃ©ros entre crochets disparaissent ainsi que toutes les sorties en-dessous des cellules de code. Un **Restart** du **Kernel** revient alors Ã  supprimer tous les objets crÃ©Ã©s."
   ]
  },
  {
   "cell_type": "markdown",
   "id": "c72a3865-a3a9-469f-afd9-202b57b5a4da",
   "metadata": {},
   "source": [
    "Pour \"sortir\" de l'environement d'une cellule, faire `esc`. On peut ensuite ajouter une cellule avant ou aprÃ¨s avec les raccourci `a` (above) et `b` (below). Une cellule peut Ã©galement Ãªtre crÃ©Ã©e avec le symbole **+** dans la barre Ã  outils. \n",
    "\n",
    "Par dÃ©faut, une cellule contient un scrypt Python. Il est possible de modifier le type d'une cellule avec le menu dÃ©roulant en changeant **Code** en **Markdown**. Le **Markdown** permet d'Ã©crire du texte, le formatage est trÃ¨s simple et la syntaxe pour la partie mathÃ©matique ressemble Ã  la syntaxe du **LateX**."
   ]
  },
  {
   "cell_type": "markdown",
   "id": "bdcc5603-d820-48d7-aff9-194daac1662f",
   "metadata": {
    "incorrectly_encoded_metadata": "slideshow={\"slide_type\": \"slide\"} tags=[] toc-hr-collapsed=false"
   },
   "source": [
    "## Librairies"
   ]
  },
  {
   "cell_type": "markdown",
   "id": "70d1dfc7-b97f-4184-a2cd-1836e7cd1fc9",
   "metadata": {
    "slideshow": {
     "slide_type": "-"
    }
   },
   "source": [
    "**Importation d'une Librairie**"
   ]
  },
  {
   "cell_type": "code",
   "execution_count": 2,
   "id": "f4aef5df-be06-4a2f-a9c2-bb5cb0e55e6e",
   "metadata": {
    "ExecuteTime": {
     "end_time": "2022-02-16T12:21:45.381722Z",
     "start_time": "2022-02-16T12:21:45.368815Z"
    },
    "collapsed": false,
    "execution": {
     "iopub.execute_input": "2022-11-28T13:45:03.739408Z",
     "iopub.status.busy": "2022-11-28T13:45:03.739114Z",
     "iopub.status.idle": "2022-11-28T13:45:03.747711Z",
     "shell.execute_reply": "2022-11-28T13:45:03.747016Z",
     "shell.execute_reply.started": "2022-11-28T13:45:03.739388Z"
    },
    "jupyter": {
     "outputs_hidden": false
    },
    "slideshow": {
     "slide_type": "-"
    }
   },
   "outputs": [
    {
     "data": {
      "text/plain": [
       "5.0"
      ]
     },
     "execution_count": 2,
     "metadata": {},
     "output_type": "execute_result"
    }
   ],
   "source": [
    "import math                # import du module math\n",
    "math.sqrt(25)"
   ]
  },
  {
   "cell_type": "code",
   "execution_count": 3,
   "id": "160c0990-f07c-424d-9af3-781b45facea9",
   "metadata": {
    "ExecuteTime": {
     "end_time": "2022-02-16T12:21:45.387055Z",
     "start_time": "2022-02-16T12:21:45.383653Z"
    },
    "collapsed": false,
    "execution": {
     "iopub.execute_input": "2022-11-28T13:45:03.749204Z",
     "iopub.status.busy": "2022-11-28T13:45:03.748789Z",
     "iopub.status.idle": "2022-11-28T13:45:03.753443Z",
     "shell.execute_reply": "2022-11-28T13:45:03.752850Z",
     "shell.execute_reply.started": "2022-11-28T13:45:03.749182Z"
    },
    "jupyter": {
     "outputs_hidden": false
    },
    "slideshow": {
     "slide_type": "-"
    }
   },
   "outputs": [
    {
     "data": {
      "text/plain": [
       "5.0"
      ]
     },
     "execution_count": 3,
     "metadata": {},
     "output_type": "execute_result"
    }
   ],
   "source": [
    "from math import sqrt        # import d'une fonction\n",
    "sqrt(25)                     # plus besoin du nom du module"
   ]
  },
  {
   "cell_type": "code",
   "execution_count": 202,
   "id": "cd8e2f95-d2a1-48b8-a046-f7e18add13c7",
   "metadata": {
    "ExecuteTime": {
     "end_time": "2022-02-16T12:21:45.392997Z",
     "start_time": "2022-02-16T12:21:45.388454Z"
    },
    "slideshow": {
     "slide_type": "-"
    }
   },
   "outputs": [],
   "source": [
    "import numpy as np  # dÃ©finition d'un alias"
   ]
  },
  {
   "cell_type": "markdown",
   "id": "c769d40d-8306-499d-bf08-37548f537633",
   "metadata": {
    "slideshow": {
     "slide_type": "slide"
    },
    "tags": []
   },
   "source": [
    "## GÃ©nÃ©ralitÃ©s: types, opÃ©rations, tests et boucles\n",
    "\n",
    "Il existe trois types numÃ©riques distincts: \n",
    "- `int` pour les entiers (prÃ©cision illimitÃ©e), \n",
    "- `float` pour les rÃ©els (nombres flottants, prÃ©cision dÃ©pend de l'architecture),\n",
    "- `complex` pour les nombres complexes (constante imaginaire pure: `j`).\n",
    "\n",
    "Il y a un type `bool` pour les expressions boolÃ©enes dont les constantes sont `True` et `False`.\n",
    "\n",
    "La [documentation](https://docs.python.org/fr/3/library/stdtypes.html) fournit toutes les informations dÃ©taillÃ©es."
   ]
  },
  {
   "cell_type": "markdown",
   "id": "386e8a66-f206-4b95-a65e-54a88cb04740",
   "metadata": {
    "slideshow": {
     "slide_type": "subslide"
    }
   },
   "source": [
    "### Manipulation de types"
   ]
  },
  {
   "cell_type": "code",
   "execution_count": 209,
   "id": "f2aff350-7baa-46ea-93fe-74b6385989aa",
   "metadata": {
    "ExecuteTime": {
     "end_time": "2022-02-16T12:21:45.456846Z",
     "start_time": "2022-02-16T12:21:45.453685Z"
    },
    "slideshow": {
     "slide_type": "-"
    }
   },
   "outputs": [
    {
     "name": "stdout",
     "output_type": "stream",
     "text": [
      "2.5\n"
     ]
    }
   ],
   "source": [
    "x = 2.5\n",
    "type(x)\n",
    "print(x)"
   ]
  },
  {
   "cell_type": "code",
   "execution_count": 211,
   "id": "59a63af0-2574-4bf1-bea9-079f9c3ed54d",
   "metadata": {
    "ExecuteTime": {
     "end_time": "2022-02-16T12:21:45.461220Z",
     "start_time": "2022-02-16T12:21:45.458108Z"
    },
    "slideshow": {
     "slide_type": "-"
    }
   },
   "outputs": [
    {
     "name": "stdout",
     "output_type": "stream",
     "text": [
      "2\n"
     ]
    }
   ],
   "source": [
    "x = '2'     # x change de type, le x du contexte prÃ©cÃ©dent est Ã©crasÃ©\n",
    "type(x)\n",
    "print(x)"
   ]
  },
  {
   "cell_type": "code",
   "execution_count": 213,
   "id": "d0094f81-4547-4da7-b839-06562064f2d6",
   "metadata": {
    "ExecuteTime": {
     "end_time": "2022-02-16T12:21:45.465992Z",
     "start_time": "2022-02-16T12:21:45.462702Z"
    },
    "collapsed": false,
    "jupyter": {
     "outputs_hidden": false
    }
   },
   "outputs": [
    {
     "data": {
      "text/plain": [
       "False"
      ]
     },
     "execution_count": 213,
     "metadata": {},
     "output_type": "execute_result"
    }
   ],
   "source": [
    "isinstance(x, int)      # est-ce que x est un entier ? "
   ]
  },
  {
   "cell_type": "markdown",
   "id": "509d0bc1-e11a-4392-9251-0e016e6742e5",
   "metadata": {},
   "source": [
    "### Types composÃ©s: structure de donnÃ©es\n",
    "Il y a quelques types composÃ©s qu'il faut maitriser. On dÃ©taille l'usage plus loin dans ce notebook. On peut regrouper les **structures ordonnÃ©es**: \n",
    "- une collection hÃ©tÃ©rogÃ¨ne modifiable `list`  dÃ©finie Ã  l'aidre de crochets `[]` \n",
    "- une collection non modifiable `tuple` `()`\n",
    "- une chaine de caractÃ¨re `str` `\"\"` ou `''`\n",
    "\n",
    "Et les **structures non ordonnÃ©es**:\n",
    "- structure associative (table de hashage) ou dictionnaire `dict` `{:}`\n",
    "- collection non ordonnÃ©e: `set` `{}` ou `frozenset`\n",
    "\n",
    "Nous ne prÃ©sentons ici que quelques exemples concernant les listes et leur manipulation. "
   ]
  },
  {
   "cell_type": "code",
   "execution_count": 235,
   "id": "a80c008b-2c5a-46fc-82b3-d2aa5e7a3844",
   "metadata": {},
   "outputs": [],
   "source": [
    "L = [1, 'a', 0.2]"
   ]
  },
  {
   "cell_type": "code",
   "execution_count": 237,
   "id": "dc598b2e-9842-491a-8727-dc23c285ab9b",
   "metadata": {},
   "outputs": [
    {
     "name": "stdout",
     "output_type": "stream",
     "text": [
      "3\n",
      "1\n",
      "0.2\n"
     ]
    }
   ],
   "source": [
    "print(len(L)) # longueur de la liste\n",
    "print(L[0])\n",
    "print(L[-1])"
   ]
  },
  {
   "cell_type": "code",
   "execution_count": 241,
   "id": "24e96fa3-894d-4244-afbe-5bad88ba175f",
   "metadata": {},
   "outputs": [
    {
     "name": "stdout",
     "output_type": "stream",
     "text": [
      "[1, 'a', 0.2, 8]\n"
     ]
    }
   ],
   "source": [
    "L.append(8) # ajout d'un Ã©lÃ©ment\n",
    "print(L)"
   ]
  },
  {
   "cell_type": "code",
   "execution_count": 246,
   "id": "71c76582-0211-4ae3-be5a-3aec31a07e9e",
   "metadata": {},
   "outputs": [
    {
     "name": "stdout",
     "output_type": "stream",
     "text": [
      "[1, 'a']\n"
     ]
    }
   ],
   "source": [
    "L.pop() # retrait du dernier Ã©lÃ©ment\n",
    "print(L)"
   ]
  },
  {
   "cell_type": "markdown",
   "id": "c3c62b03-3a18-4493-954b-ac42d3bfd991",
   "metadata": {
    "slideshow": {
     "slide_type": "subslide"
    }
   },
   "source": [
    "### OpÃ©rations arithmÃ©tiques"
   ]
  },
  {
   "cell_type": "code",
   "execution_count": 252,
   "id": "6b07a0c8-9bcb-4706-b84f-88febfb94a02",
   "metadata": {
    "ExecuteTime": {
     "end_time": "2022-02-16T12:21:45.481488Z",
     "start_time": "2022-02-16T12:21:45.476714Z"
    }
   },
   "outputs": [
    {
     "data": {
      "text/plain": [
       "2"
      ]
     },
     "execution_count": 252,
     "metadata": {},
     "output_type": "execute_result"
    }
   ],
   "source": [
    "20 ** 3         # 8000 (puissance)\n",
    "\n",
    "20 / 3          # 6.666666666666667 \n",
    "20 // 3         # 6 (division entiÃ¨re) \n",
    "\n",
    "20 % 3          # 2 (modulo) "
   ]
  },
  {
   "cell_type": "markdown",
   "id": "a37d0d50-72b7-48e6-825d-fa61b9e16a85",
   "metadata": {
    "slideshow": {
     "slide_type": "subslide"
    }
   },
   "source": [
    "### OpÃ©rations boolÃ©ennes\n",
    "\n",
    "Les opÃ©rations boolÃ©ennes seront trÃ¨s utiles dans la suite pour sÃ©lectionner certains Ã©lÃ©ment d'un ndarray crÃ©Ã© avec la librairie numpy. "
   ]
  },
  {
   "cell_type": "code",
   "execution_count": 267,
   "id": "d14a113d-d510-4373-ba73-56668f5a57ad",
   "metadata": {
    "ExecuteTime": {
     "end_time": "2022-02-16T12:21:45.618812Z",
     "start_time": "2022-02-16T12:21:45.618802Z"
    },
    "tags": []
   },
   "outputs": [
    {
     "data": {
      "text/plain": [
       "True"
      ]
     },
     "execution_count": 267,
     "metadata": {},
     "output_type": "execute_result"
    }
   ],
   "source": [
    "x = 5\n",
    "x >= 3"
   ]
  },
  {
   "cell_type": "code",
   "execution_count": 269,
   "id": "57ed375c-f02b-4732-9628-4c779ffb0f18",
   "metadata": {
    "ExecuteTime": {
     "end_time": "2022-02-16T12:21:45.619854Z",
     "start_time": "2022-02-16T12:21:45.619840Z"
    },
    "tags": []
   },
   "outputs": [
    {
     "name": "stdout",
     "output_type": "stream",
     "text": [
      "True False\n"
     ]
    }
   ],
   "source": [
    "print(x != 3, x == 3)"
   ]
  },
  {
   "cell_type": "code",
   "execution_count": 271,
   "id": "9f766792-f38c-47bb-adb7-03985d07a6df",
   "metadata": {
    "ExecuteTime": {
     "end_time": "2022-02-16T12:21:45.621093Z",
     "start_time": "2022-02-16T12:21:45.621081Z"
    },
    "tags": []
   },
   "outputs": [
    {
     "data": {
      "text/plain": [
       "True"
      ]
     },
     "execution_count": 271,
     "metadata": {},
     "output_type": "execute_result"
    }
   ],
   "source": [
    "x > 3 and 6 > 3     # 'et' boolÃ©en"
   ]
  },
  {
   "cell_type": "code",
   "execution_count": 273,
   "id": "b96bc59b-3dee-41fa-a993-bcc9348e5634",
   "metadata": {
    "ExecuteTime": {
     "end_time": "2022-02-16T12:21:45.622091Z",
     "start_time": "2022-02-16T12:21:45.622081Z"
    },
    "tags": []
   },
   "outputs": [
    {
     "data": {
      "text/plain": [
       "True"
      ]
     },
     "execution_count": 273,
     "metadata": {},
     "output_type": "execute_result"
    }
   ],
   "source": [
    "x > 3 or 5 < 3     # 'ou' boolÃ©en"
   ]
  },
  {
   "cell_type": "markdown",
   "id": "9f3b8b2a-a282-4c1b-aac4-ae4db32a9903",
   "metadata": {
    "incorrectly_encoded_metadata": "slideshow={\"slide_type\": \"subslide\"} toc-hr-collapsed=true"
   },
   "source": [
    "### Tests `if`/`elif`/`else`\n",
    "\n",
    "Il est primordial de faire attention Ã  l'indentation en Python, qui fait partie de la syntaxe. "
   ]
  },
  {
   "cell_type": "code",
   "execution_count": 281,
   "id": "6b618841-3f9b-470f-a86b-c23fac0e71dd",
   "metadata": {},
   "outputs": [],
   "source": [
    "x = 0"
   ]
  },
  {
   "cell_type": "code",
   "execution_count": 283,
   "id": "5b000e64-f397-4dc6-a3b6-91b920a552bf",
   "metadata": {
    "ExecuteTime": {
     "end_time": "2022-02-16T12:21:45.624293Z",
     "start_time": "2022-02-16T12:21:45.624282Z"
    },
    "collapsed": false,
    "jupyter": {
     "outputs_hidden": false
    },
    "tags": []
   },
   "outputs": [
    {
     "name": "stdout",
     "output_type": "stream",
     "text": [
      "zero or negative\n"
     ]
    }
   ],
   "source": [
    "if x > 0:\n",
    "    print('positive') # attention: indentation permet de dÃ©finir un bloc d'instructions\n",
    "    print('coucou')\n",
    "else:                 # else facultatif\n",
    "    print('zero or negative')"
   ]
  },
  {
   "cell_type": "code",
   "execution_count": 285,
   "id": "866b48e8-8ea6-4685-a71f-6d1a6993ee0e",
   "metadata": {
    "ExecuteTime": {
     "end_time": "2022-02-16T12:21:45.625410Z",
     "start_time": "2022-02-16T12:21:45.625400Z"
    },
    "collapsed": false,
    "jupyter": {
     "outputs_hidden": false
    },
    "tags": []
   },
   "outputs": [
    {
     "name": "stdout",
     "output_type": "stream",
     "text": [
      "zero\n"
     ]
    }
   ],
   "source": [
    "if x > 0:\n",
    "    print('positive')\n",
    "elif x == 0:                   # elif pour enchainer les conditions\n",
    "    print('zero')\n",
    "else:\n",
    "    print('negative')"
   ]
  },
  {
   "cell_type": "markdown",
   "id": "a6ad3f6e-7fd8-434b-aa54-dc9e82aeb7e7",
   "metadata": {
    "slideshow": {
     "slide_type": "slide"
    },
    "tags": []
   },
   "source": [
    "### Boucle while"
   ]
  },
  {
   "cell_type": "code",
   "execution_count": 322,
   "id": "235de4a2-a0e4-4457-994d-9ba014f099b4",
   "metadata": {
    "ExecuteTime": {
     "end_time": "2022-02-16T12:21:45.780243Z",
     "start_time": "2022-02-16T12:21:45.777232Z"
    },
    "tags": []
   },
   "outputs": [],
   "source": [
    "N = 0\n",
    "x = 1\n",
    "while N <= 4: \n",
    "    N += 1\n",
    "    x *=2\n",
    "    "
   ]
  },
  {
   "cell_type": "markdown",
   "id": "f383555c-45d5-4d9f-b79c-c632f946c3e8",
   "metadata": {},
   "source": [
    "### Boucle `for`\n",
    "\n",
    "La fonction `range` est trÃ¨s utile pour dÃ©finir une boucle `for`. \n",
    "Attention, elle renvoie un objet dit itÃ©rable, diffÃ©rent d'une liste. "
   ]
  },
  {
   "cell_type": "code",
   "execution_count": 337,
   "id": "aa0852e8-53c1-46af-b622-7ea8b13b2caf",
   "metadata": {
    "ExecuteTime": {
     "end_time": "2022-02-16T12:21:45.785340Z",
     "start_time": "2022-02-16T12:21:45.781979Z"
    },
    "tags": []
   },
   "outputs": [
    {
     "name": "stdout",
     "output_type": "stream",
     "text": [
      "range(0, 10)\n",
      "[0, 1, 2, 3, 4, 5, 6, 7, 8, 9]\n"
     ]
    }
   ],
   "source": [
    "range(10)         # dÃ©finit la plage itÃ©rable {0,1,2,..,9} (ouvert Ã  droite)\n",
    "L = list(range(10)) \n",
    "print(range(10))\n",
    "print(L)"
   ]
  },
  {
   "cell_type": "code",
   "execution_count": 339,
   "id": "cf11a1ae-80b0-43ee-aa9a-911180e4a609",
   "metadata": {
    "tags": []
   },
   "outputs": [
    {
     "name": "stdout",
     "output_type": "stream",
     "text": [
      "0\n",
      "10\n",
      "20\n",
      "30\n",
      "40\n",
      "50\n",
      "60\n",
      "70\n",
      "80\n",
      "90\n",
      "100\n"
     ]
    }
   ],
   "source": [
    "for i in range(0, 101, 10):\n",
    "    print(i)"
   ]
  },
  {
   "cell_type": "markdown",
   "id": "1cfb85d2-3dc2-49a8-939f-2fc46ee4754f",
   "metadata": {},
   "source": [
    "Il est possible d'itÃ©rer sur les Ã©lÃ©ments d'une liste. "
   ]
  },
  {
   "cell_type": "code",
   "execution_count": 352,
   "id": "37c789bc-e0d5-4a97-a522-bbb0a505c3c2",
   "metadata": {
    "ExecuteTime": {
     "end_time": "2022-02-16T12:21:45.790941Z",
     "start_time": "2022-02-16T12:21:45.787819Z"
    },
    "tags": []
   },
   "outputs": [
    {
     "name": "stdout",
     "output_type": "stream",
     "text": [
      "Nour\n",
      "Marion\n",
      "Leo\n"
     ]
    }
   ],
   "source": [
    "prenoms = [\"Nour\",\"Marion\",\"Leo\"]  \n",
    "for nom in prenoms:       \n",
    "    print(nom)"
   ]
  },
  {
   "cell_type": "markdown",
   "id": "2aea22e9-ee04-4f68-aa70-09719c3c4a5a",
   "metadata": {
    "slideshow": {
     "slide_type": "subslide"
    }
   },
   "source": [
    "**Boucle** `for/else`"
   ]
  },
  {
   "cell_type": "code",
   "execution_count": 355,
   "id": "cb536c62-d9b4-4836-8cfa-b0b7f33ac0f2",
   "metadata": {
    "ExecuteTime": {
     "end_time": "2022-02-16T12:21:45.808642Z",
     "start_time": "2022-02-16T12:21:45.805311Z"
    },
    "tags": []
   },
   "outputs": [
    {
     "name": "stdout",
     "output_type": "stream",
     "text": [
      "Ce nom n'est pas dans la liste\n"
     ]
    }
   ],
   "source": [
    "for nom in prenoms:          # fonctionne dÃ¨s que jours est itÃ©rable\n",
    "    if nom == \"Aida\":\n",
    "        print(nom)\n",
    "        break\n",
    "else:                      # attention Ã  l'indentation\n",
    "    print(\"Ce nom n'est pas dans la liste\")"
   ]
  },
  {
   "cell_type": "markdown",
   "id": "07f326c1-4f6d-436b-ad91-945535145d5f",
   "metadata": {
    "slideshow": {
     "slide_type": "slide"
    },
    "tags": []
   },
   "source": [
    "## Fonctions\n",
    "\n",
    "Attention une fonction peut dÃ©pendre et interagir avec un contexte global. Il est **fortement recommandÃ©** de faire dÃ©pendre une fonction **uniquement de ses arguments**. \n",
    "\n",
    "\n",
    "**Syntaxe:** \n",
    "```python\n",
    "def nom_fonction(arguments):\n",
    "      instructions\n",
    "      return resultat\n",
    "```\n",
    "Pour renvoyer une valeur on utilise le mot-clÃ© `return`."
   ]
  },
  {
   "cell_type": "markdown",
   "id": "d3a85a82-4e37-4c3c-ab0f-72e719072b75",
   "metadata": {
    "slideshow": {
     "slide_type": "subslide"
    }
   },
   "source": [
    "### Arguments"
   ]
  },
  {
   "cell_type": "markdown",
   "id": "4b95b307-8c8b-40ce-a043-e862fef214e4",
   "metadata": {},
   "source": [
    "- **positional argument**: un argument qui n'est pas suivi par un signe `=` (n'a pas de valeur par dÃ©faut)\n",
    "- **keyword argument**: argument suivi par un signe `=` et une expression qui donne une valeur par dÃ©faut\n",
    "\n",
    "On indique d'abord les _positional arguments_ puis les _keyword arguments_."
   ]
  },
  {
   "cell_type": "code",
   "execution_count": 46,
   "id": "6b3f9131-2c2b-4222-9a8c-b6207a1b5e91",
   "metadata": {
    "ExecuteTime": {
     "end_time": "2022-02-16T12:21:45.741038Z",
     "start_time": "2022-02-16T12:21:45.741024Z"
    },
    "execution": {
     "iopub.execute_input": "2022-11-28T13:45:04.214890Z",
     "iopub.status.busy": "2022-11-28T13:45:04.214375Z",
     "iopub.status.idle": "2022-11-28T13:45:04.218073Z",
     "shell.execute_reply": "2022-11-28T13:45:04.217367Z",
     "shell.execute_reply.started": "2022-11-28T13:45:04.214864Z"
    },
    "tags": []
   },
   "outputs": [],
   "source": [
    "def g(a, b, t=0.5):\n",
    "    z = a + t * (b - a)       # z est une variable locale\n",
    "    return z"
   ]
  },
  {
   "cell_type": "code",
   "execution_count": 47,
   "id": "81910bf9-20c4-4bd1-9bb8-1d0ef090eb47",
   "metadata": {
    "ExecuteTime": {
     "end_time": "2022-02-16T12:21:45.741954Z",
     "start_time": "2022-02-16T12:21:45.741943Z"
    },
    "execution": {
     "iopub.execute_input": "2022-11-28T13:45:04.219319Z",
     "iopub.status.busy": "2022-11-28T13:45:04.219027Z",
     "iopub.status.idle": "2022-11-28T13:45:04.223603Z",
     "shell.execute_reply": "2022-11-28T13:45:04.223099Z",
     "shell.execute_reply.started": "2022-11-28T13:45:04.219297Z"
    },
    "tags": []
   },
   "outputs": [
    {
     "name": "stdout",
     "output_type": "stream",
     "text": [
      "3.5\n",
      "2.0\n",
      "2.0\n",
      "3.5\n",
      "2.0\n",
      "3.5\n"
     ]
    }
   ],
   "source": [
    "print( g(1, 6) )             # t prend la valeur par defaut, a vaut 1 et b vaut 6\n",
    "print( g(1, 6, 0.2) )        # a et b sont dÃ©terminÃ©s par la position\n",
    "print( g(t=0.2, b=6, a=1) )  # arguments dÃ©terminÃ©s par leurs noms"
   ]
  },
  {
   "cell_type": "markdown",
   "id": "37ddeb54-2e9d-43cd-82b0-b60b2041ef9c",
   "metadata": {
    "slideshow": {
     "slide_type": "subslide"
    }
   },
   "source": [
    "### Valeurs de retour"
   ]
  },
  {
   "cell_type": "markdown",
   "id": "db846dde-622e-4539-a244-adf7d117ad7f",
   "metadata": {},
   "source": [
    "Une fonction "
   ]
  },
  {
   "cell_type": "code",
   "execution_count": 48,
   "id": "118b1cfb-f92a-48d5-b129-8047a8f094e1",
   "metadata": {
    "ExecuteTime": {
     "end_time": "2022-02-16T12:21:45.743288Z",
     "start_time": "2022-02-16T12:21:45.743277Z"
    },
    "execution": {
     "iopub.execute_input": "2022-11-28T13:45:04.224760Z",
     "iopub.status.busy": "2022-11-28T13:45:04.224494Z",
     "iopub.status.idle": "2022-11-28T13:45:04.228874Z",
     "shell.execute_reply": "2022-11-28T13:45:04.227840Z",
     "shell.execute_reply.started": "2022-11-28T13:45:04.224734Z"
    },
    "tags": []
   },
   "outputs": [],
   "source": [
    "def move(x, y):\n",
    "    epsilon = 0.1\n",
    "    return x + epsilon, y * epsilon   # fonction retourne un tuple"
   ]
  },
  {
   "cell_type": "code",
   "execution_count": 51,
   "id": "520e1059-0f32-4e90-9d0d-bdae214d76bb",
   "metadata": {
    "ExecuteTime": {
     "end_time": "2022-02-16T12:21:45.746765Z",
     "start_time": "2022-02-16T12:21:45.746752Z"
    },
    "execution": {
     "iopub.execute_input": "2022-11-28T13:45:04.242144Z",
     "iopub.status.busy": "2022-11-28T13:45:04.241955Z",
     "iopub.status.idle": "2022-11-28T13:45:04.250673Z",
     "shell.execute_reply": "2022-11-28T13:45:04.249389Z",
     "shell.execute_reply.started": "2022-11-28T13:45:04.242126Z"
    },
    "tags": []
   },
   "outputs": [
    {
     "name": "stdout",
     "output_type": "stream",
     "text": [
      "a = 0.6\n",
      "b = 5.0\n"
     ]
    }
   ],
   "source": [
    "a, b = move(0.1, 10)      # tuple unpacking\n",
    "print(\"a =\", a)\n",
    "print(\"b =\", b)"
   ]
  },
  {
   "cell_type": "markdown",
   "id": "5a89dc57-2868-4386-8e5e-ba5619dc4fcf",
   "metadata": {},
   "source": [
    "## Exercice \n",
    "### Exercice 1 : \n",
    "\n",
    "Ecrire un programme dans une cellule ci-dessous, permettant de calculer le plus grand nombre factoriel $n!$ infÃ©rieur Ã  1000."
   ]
  },
  {
   "cell_type": "code",
   "execution_count": 13,
   "id": "b679059e-5119-4a1f-8722-1a008a77cb99",
   "metadata": {},
   "outputs": [],
   "source": [
    "def fact(n):\n",
    "    if n == 1 | n == 0 :\n",
    "        return 0\n",
    "    i = 1\n",
    "    fact = 1\n",
    "    while i < 1000:\n",
    "        i += 1\n",
    "        fact *= n\n",
    "    n -= 1\n",
    "    fact //= n\n",
    "    print (fact)\n",
    "    return (n, fact)"
   ]
  },
  {
   "cell_type": "markdown",
   "id": "0e5089e4-b5dc-42dd-ade6-3235e810c8d0",
   "metadata": {},
   "source": [
    "### Exercice 2:\n",
    "\n",
    "On dispose d'une liste de notes d'examen dans un fichier `notes`. Calculer la moyenne et des notes et donner le nombre d'Ã©tudiants allant au rattrapage (note infÃ©rieure Ã  10). "
   ]
  },
  {
   "cell_type": "code",
   "execution_count": 17,
   "id": "e2580791-4e0d-4a92-8a6d-d6ce870e55df",
   "metadata": {},
   "outputs": [
    {
     "name": "stdout",
     "output_type": "stream",
     "text": [
      "Nombres d'élèves au rattrapage est de :5 Et la moyenne de la classe est de : 10.846153846153847.\n"
     ]
    }
   ],
   "source": [
    "notes = [12, 8, 17, 10, 0, 15, 9, 14, 19, 4, 11,2,20]\n",
    "moy = 0\n",
    "nb_rattrapage = 0\n",
    "nb_eleves = 0\n",
    "for i in notes :\n",
    "    nb_eleves += 1\n",
    "    moy += i\n",
    "    if i < 10 :\n",
    "        nb_rattrapage += 1\n",
    "moy = moy / nb_eleves\n",
    "print(\"Nombres d'élèves au rattrapage est de :\" + str(nb_rattrapage) + \" Et la moyenne de la classe est de : \" + str(moy) + \".\")\n",
    "\n",
    "    \n",
    "    "
   ]
  },
  {
   "cell_type": "markdown",
   "id": "590a896c-a6b0-4126-ab3e-331bf8d081bb",
   "metadata": {},
   "source": [
    "### Exercice 3 : la suite de Syracuse\n",
    "\n",
    "On rÃ©pondra Ã  chaque question dans une cellule suivant l'Ã©noncÃ©. \n",
    "On considÃ¨re un nombre entier naturel **non nul** $u_0$.  \n",
    "- Sâ€™il est **pair**, on le **divise par 2** ;  \n",
    "- sâ€™il est **impair**, on le **multiplie par 3** et on **ajoute 1**.\n",
    "\n",
    "On obtient une suite $(u_n)_{n\\in \\mathbb{N}}$ dÃ©finie par rÃ©curence:\n",
    "$$\n",
    "u_0 \\in \\mathbb{N}^*, \\quad\n",
    "u_{n+1} =\n",
    "\\begin{cases}\n",
    "\\dfrac{u_n}{2} & \\text{si } u_n \\text{ est pair},\\\\[4pt]\n",
    "3u_n + 1 & \\text{si } u_n \\text{ est impair}.\n",
    "\\end{cases}\n",
    "$$\n",
    "\n",
    "**Conjecture de Syracuse** : pour tout $u_0$, il existerait un indice $n$ tel que $u_n = 1$."
   ]
  },
  {
   "cell_type": "markdown",
   "id": "32fc5289-a9e9-4c57-9da6-00b556117ebf",
   "metadata": {},
   "source": [
    "#### 1) GÃ©nÃ©rer les termes $(u_0, u_1, \\dots, u_n)$\n",
    "\n",
    "Ã‰crire une fonction `syracuse_terms` prenant comme argument le premier terme **u0** (entier naturel non nul)  de la suite et un entier **n**, et retournant une liste `L` composÃ©e des termes $(u_0, u_1, \\dots, u_n)$.\n",
    "\n",
    "> On veillera Ã  manipuler des entiers (division entiÃ¨re) et Ã  conserver le type entier.\n"
   ]
  },
  {
   "cell_type": "code",
   "execution_count": 30,
   "id": "b1932fc1-b656-4947-b166-cd15268c3dbb",
   "metadata": {},
   "outputs": [
    {
     "name": "stdout",
     "output_type": "stream",
     "text": [
      "[5, 16, 8, 4, 2, 1, 4, 2, 1, 4, 2, 1, 4, 2, 1, 4, 2, 1, 4, 2, 1]\n"
     ]
    }
   ],
   "source": [
    "def syracuse_terms(u, n): \n",
    "    L = [u]\n",
    "    while n != 0 : \n",
    "        if u % 2 == 0 :\n",
    "            u = u // 2\n",
    "            L.append(u)\n",
    "            n -= 1\n",
    "        else :\n",
    "            u = 3*u + 1\n",
    "            L.append(u)\n",
    "            n -= 1\n",
    "    return L\n",
    "\n",
    "list = syracuse_terms(5, 20)\n",
    "print(list)"
   ]
  },
  {
   "cell_type": "markdown",
   "id": "435d458e-70fc-42e9-82f9-226b8009dd84",
   "metadata": {},
   "source": [
    "Afficher un exemple pour un $u_0$ et $n$ de votre choix. "
   ]
  },
  {
   "cell_type": "markdown",
   "id": "21d59fdd-e8b8-4b60-bf38-7172a015cfe5",
   "metadata": {},
   "source": [
    "#### 2) Fonction `vol(a)`\n",
    "\n",
    "CrÃ©er une fonction `vol` , prenant en argument **u0** et qui **retourne la liste** `L` composÃ©e de tous les termes\n",
    "\\(u_0, u_1, \\dots, u_n\\) oÃ¹ \\(u_0 = a\\) et **n est le premier entier** tel que \\(u_n = 1\\).\n",
    "\n",
    "- Le **vol** de la suite est la liste `L` jusquâ€™Ã  1 (incluse).\n",
    "\n",
    "Proposer un exemple. "
   ]
  },
  {
   "cell_type": "code",
   "execution_count": 32,
   "id": "f1954c7f-487a-4ce6-a3ec-8ccf70ae5361",
   "metadata": {},
   "outputs": [
    {
     "name": "stdout",
     "output_type": "stream",
     "text": [
      "[10, 5, 16, 8, 4, 2, 1]\n"
     ]
    }
   ],
   "source": [
    "def vol(a) : \n",
    "    L = [a]\n",
    "    while L[-1] != 1 :\n",
    "        if a % 2 == 0 :\n",
    "            a = a // 2\n",
    "            L.append(a)\n",
    "        else :\n",
    "            a = 3*a + 1\n",
    "            L.append(a)\n",
    "    return L\n",
    "list = vol(10)\n",
    "print(list)\n",
    "        "
   ]
  },
  {
   "cell_type": "markdown",
   "id": "a22d485e-f396-4387-b50d-3d7ae3a3226b",
   "metadata": {},
   "source": [
    "#### 3) Fonction `Tvol(a)`\n",
    "\n",
    "- Le **temps de vol** est le plus petit entier \\(n\\) tel que \\(u_n = 1\\).\n",
    "- Lâ€™**altitude** est le **plus grand** terme de `L`.\n",
    "  \n",
    "Ã‰crire une fonction `Tvol(u0)` qui **retourne l'altitude et le temps de vol**.\n"
   ]
  },
  {
   "cell_type": "code",
   "execution_count": 35,
   "id": "adbd9e30-a98b-40e2-9418-bc65722a8902",
   "metadata": {},
   "outputs": [
    {
     "name": "stdout",
     "output_type": "stream",
     "text": [
      "(7, 16)\n"
     ]
    }
   ],
   "source": [
    "def Tvol(a) : \n",
    "    list = vol(a)\n",
    "    tdv = len(list)\n",
    "    altitude = max(list)\n",
    "    return (tdv, altitude)\n",
    "    \n",
    "(tdv, al) = Tvol(10)\n",
    "print((tdv, al))"
   ]
  },
  {
   "cell_type": "markdown",
   "id": "c4e4974b-69b5-43a9-887f-2955e940eae1",
   "metadata": {},
   "source": [
    "Calculer le temps de vol et l'atitude pour des valeurs de $u_0$ comprises entre 2 et 50, ainsi que leur moyenne. "
   ]
  },
  {
   "cell_type": "code",
   "execution_count": 40,
   "id": "c91e8ed3-4600-4c03-bb23-f8a9f3465954",
   "metadata": {},
   "outputs": [
    {
     "name": "stdout",
     "output_type": "stream",
     "text": [
      "Le temps de vol moyen est : 22.708333333333332 et l'altitude moyenne est 22.708333333333332.\n"
     ]
    }
   ],
   "source": [
    "list = []\n",
    "for i in range(2, 50) :\n",
    "    list.append(Tvol(i))\n",
    "moy_tdv = 0\n",
    "moy_alt = 0\n",
    "for i in range(0, len(list)):\n",
    "    moy_tdv += list[i][0]\n",
    "    moy_alt += list[i][0]\n",
    "moy_tdv = moy_tdv / len(list)\n",
    "moy_alt = moy_alt / len(list)\n",
    "print(\"Le temps de vol moyen est : \"+str(moy_tdv)+\" et l'altitude moyenne est \"+str(moy_alt)+\".\")"
   ]
  },
  {
   "cell_type": "markdown",
   "id": "2b2f3f3e-487d-47b6-b516-56a1e9f510b2",
   "metadata": {},
   "source": [
    "# Numpy et les ndarray\n",
    "\n",
    "* Librairie **NumPy** : tableaux numÃ©riques multidimensionnels (`ndarray`) en Python.\n",
    "* OpÃ©rations vectorisÃ©es rapides (broadcasting, agrÃ©gations).\n",
    "* Socle de **SciPy**, **pandas**, **scikit-learn**, **Matplotlib**.\n",
    "* Syntaxe reprise par **PyTorch**/**TensorFlow** en machine learning: leurs **tensors** ressemblent aux `ndarray`, mais tournent sur **GPU** (NumPy = **CPU** par dÃ©faut).\n",
    "\n",
    "**Ã€ connaÃ®tre :**\n",
    "\n",
    "* crÃ©ation dâ€™array\n",
    "* indexation / slicing\n",
    "* agrÃ©gations (`sum`, `mean`)\n",
    "* algÃ¨bre linÃ©aire de base (`np.linalg`)\n"
   ]
  },
  {
   "cell_type": "code",
   "execution_count": 384,
   "id": "61094304-a44e-450b-858d-c22da8502d19",
   "metadata": {},
   "outputs": [],
   "source": [
    "import numpy as np"
   ]
  },
  {
   "cell_type": "markdown",
   "id": "915777ff-04d3-442d-8514-71f7c252f9a5",
   "metadata": {},
   "source": [
    "## CrÃ©ation d'un array"
   ]
  },
  {
   "cell_type": "markdown",
   "id": "11d30b47-0875-437c-8517-d86bc3b8e303",
   "metadata": {},
   "source": [
    "### Depuis une liste "
   ]
  },
  {
   "cell_type": "code",
   "execution_count": 476,
   "id": "f3cb5b6e-b939-4613-a2c0-ea10a1ebd323",
   "metadata": {},
   "outputs": [
    {
     "name": "stdout",
     "output_type": "stream",
     "text": [
      "[1 2 3]\n",
      "[[1 2]\n",
      " [3 4]\n",
      " [5 6]]\n"
     ]
    }
   ],
   "source": [
    "a1 = np.array([1, 2, 3])                 # 1D\n",
    "a2 = np.array([[1, 2], [3, 4], [5,6]])          # 2D\n",
    "print(a1)\n",
    "print(a2)"
   ]
  },
  {
   "cell_type": "markdown",
   "id": "3c0bf736-16ef-4adb-89ab-efcc97b239ea",
   "metadata": {},
   "source": [
    "### Matrices spÃ©ciales"
   ]
  },
  {
   "cell_type": "code",
   "execution_count": 479,
   "id": "e3a4af10-0a03-4278-baf5-c557ce54aa53",
   "metadata": {},
   "outputs": [],
   "source": [
    "z  = np.zeros((2, 3))          # zÃ©ros\n",
    "o  = np.ones((3, 2))           # uns\n",
    "f  = np.full((2, 2), fill_value=7)  # valeur constante\n",
    "I  = np.eye(4)                 # identitÃ©\n",
    "d  = np.diag([10, 20, 30])     # diagonale Ã  partir dâ€™un 1D"
   ]
  },
  {
   "cell_type": "markdown",
   "id": "70d7003e-d3fb-4f6e-8306-695a89958e77",
   "metadata": {},
   "source": [
    "### Intervalles numÃ©riques"
   ]
  },
  {
   "cell_type": "code",
   "execution_count": 482,
   "id": "7a4b02c2-5b94-47be-a957-9b8951ba6581",
   "metadata": {},
   "outputs": [
    {
     "name": "stdout",
     "output_type": "stream",
     "text": [
      "a: [0 1 2 3 4 5 6 7]\n"
     ]
    }
   ],
   "source": [
    "a = np.arange(8)\n",
    "r  = np.arange(0, 10, 2)       # 0,2,4,6,8 (pas = 2)\n",
    "lin = np.linspace(0, 1, 5)     # 5 points de 0 Ã  1\n",
    "print(\"a:\", a)"
   ]
  },
  {
   "cell_type": "markdown",
   "id": "c22d9c30-bd2b-45d8-8334-d4b0ab03cad4",
   "metadata": {},
   "source": [
    "## AccÃ¨s aux Ã©lÃ©ments et propriÃ©tÃ©s du tableau"
   ]
  },
  {
   "cell_type": "code",
   "execution_count": 485,
   "id": "c7c7f30e-49ea-4489-be10-823378bebbe2",
   "metadata": {},
   "outputs": [
    {
     "name": "stdout",
     "output_type": "stream",
     "text": [
      "[[8. 3. 2.]\n",
      " [5. 1. 6.]\n",
      " [1. 2. 7.]]\n"
     ]
    }
   ],
   "source": [
    "mat = np.array([[8., 3, 2], [5, 1., 6], [1,2,7]])\n",
    "print(mat)"
   ]
  },
  {
   "cell_type": "code",
   "execution_count": 487,
   "id": "e5c40c14-6488-47ac-9fd5-4d2a5abdc314",
   "metadata": {},
   "outputs": [
    {
     "data": {
      "text/plain": [
       "array([2., 6., 7.])"
      ]
     },
     "execution_count": 487,
     "metadata": {},
     "output_type": "execute_result"
    }
   ],
   "source": [
    "mat[0,1] # Ã©lement sur la premiÃ¨re ligne et deuxiÃ¨me colonne\n",
    "mat[0,:] # premiÃ¨re ligne\n",
    "mat[:,2] # troisÃ¨me colonne\n",
    "mat[0:2,1:] # sous-matrice\n",
    "mat[:,-1] # derniÃ¨re colonne"
   ]
  },
  {
   "cell_type": "markdown",
   "id": "59288ac4-0e2d-4ea7-886d-4f1f8f8e1fe9",
   "metadata": {},
   "source": [
    "On peut sÃ©lectionner seulement certains Ã©lÃ©ments"
   ]
  },
  {
   "cell_type": "code",
   "execution_count": 490,
   "id": "16d26c28-e7d9-43fa-9de9-72677ef5e7d6",
   "metadata": {},
   "outputs": [
    {
     "data": {
      "text/plain": [
       "array([8., 5., 6., 7.])"
      ]
     },
     "execution_count": 490,
     "metadata": {},
     "output_type": "execute_result"
    }
   ],
   "source": [
    "mat[mat>=4] # renvoie un tableau 1D"
   ]
  },
  {
   "cell_type": "code",
   "execution_count": 492,
   "id": "a5b86427-9e68-437c-b1de-06c9c7cacb55",
   "metadata": {},
   "outputs": [
    {
     "name": "stdout",
     "output_type": "stream",
     "text": [
      "Dimension: 2\n",
      "Taille: 6\n",
      "Forme: (3, 2)\n"
     ]
    }
   ],
   "source": [
    "print(\"Dimension:\", a2.ndim)\n",
    "print(\"Taille:\", a2.size)     # nombre d'Ã©lÃ©ments\n",
    "print(\"Forme:\", a2.shape)"
   ]
  },
  {
   "cell_type": "markdown",
   "id": "05b5c832-89d2-414e-a7d0-12e1c8cddb65",
   "metadata": {},
   "source": [
    "## Modification, transformation"
   ]
  },
  {
   "cell_type": "code",
   "execution_count": 497,
   "id": "249b84c7-acb8-430a-a3d5-e067974ffc0e",
   "metadata": {},
   "outputs": [
    {
     "name": "stdout",
     "output_type": "stream",
     "text": [
      "a: [0 1 2 3 4 5 6 7] Forme: (8,)\n",
      "b: [[0 1 2 3]\n",
      " [4 5 6 7]] Forme: (2, 4)\n"
     ]
    }
   ],
   "source": [
    "a = np.arange(8)\n",
    "b = a.reshape((2,4))    # transforme a en une matrice 2D\n",
    "print(\"a:\", a, \"Forme:\", a.shape)\n",
    "print(\"b:\", b, \"Forme:\", b.shape)"
   ]
  },
  {
   "cell_type": "markdown",
   "id": "bef489df-ed70-4d52-a53c-fcd912a40c51",
   "metadata": {},
   "source": [
    "TransposÃ©e: "
   ]
  },
  {
   "cell_type": "code",
   "execution_count": 509,
   "id": "7e40c3a1-c6de-4acc-8f39-f54091c166d5",
   "metadata": {},
   "outputs": [
    {
     "name": "stdout",
     "output_type": "stream",
     "text": [
      "(4, 2)\n"
     ]
    }
   ],
   "source": [
    "c =b.T\n",
    "print(c.shape)"
   ]
  },
  {
   "cell_type": "markdown",
   "id": "733b115b-c85d-4445-9b7d-783d933da8a9",
   "metadata": {},
   "source": [
    "## OpÃ©rations\n",
    "\n",
    "### Sur tous les Ã©lÃ©ments"
   ]
  },
  {
   "cell_type": "code",
   "execution_count": 535,
   "id": "cd11e48d-033e-4b4e-9d4a-7f4072e7cc0d",
   "metadata": {},
   "outputs": [
    {
     "name": "stdout",
     "output_type": "stream",
     "text": [
      "somme:  28\n",
      "moyenne:  3.5\n",
      "variance:  5.25\n",
      "maximum:  7\n"
     ]
    }
   ],
   "source": [
    "print(\"somme: \", np.sum(b))\n",
    "print(\"moyenne: \", np.mean(b))              # moyenne\n",
    "print(\"variance: \", np.var(b))   #variance\n",
    "print(\"maximum: \", np.max(b))"
   ]
  },
  {
   "cell_type": "markdown",
   "id": "29c2e29d-6568-4fa1-89f9-7cd7c17d8112",
   "metadata": {},
   "source": [
    "### Sur les lignes ou colonnes"
   ]
  },
  {
   "cell_type": "code",
   "execution_count": 545,
   "id": "c58dba6b-ad95-462d-9df4-4b2a675a3031",
   "metadata": {},
   "outputs": [
    {
     "data": {
      "text/plain": [
       "array([2., 3., 4., 5.])"
      ]
     },
     "execution_count": 545,
     "metadata": {},
     "output_type": "execute_result"
    }
   ],
   "source": [
    "np.mean(b, axis = 0)       # Moyenne de chaque colonne"
   ]
  },
  {
   "cell_type": "code",
   "execution_count": 547,
   "id": "a22a99d7-4682-4157-89fb-1c8820693ef2",
   "metadata": {},
   "outputs": [
    {
     "data": {
      "text/plain": [
       "array([ 6, 22])"
      ]
     },
     "execution_count": 547,
     "metadata": {},
     "output_type": "execute_result"
    }
   ],
   "source": [
    "np.sum(b,axis=1) # somme de chaque ligne"
   ]
  },
  {
   "cell_type": "markdown",
   "id": "7c960b5d-4c6c-4eeb-a737-820650cc8c16",
   "metadata": {},
   "source": [
    "### OpÃ©rations termes Ã  termes,entre matrices"
   ]
  },
  {
   "cell_type": "code",
   "execution_count": 556,
   "id": "8ff49525-ac2e-4252-a2ca-28f46fb6dd86",
   "metadata": {},
   "outputs": [
    {
     "name": "stdout",
     "output_type": "stream",
     "text": [
      "[[ 0  2  4  6]\n",
      " [ 8 10 12 14]]\n"
     ]
    },
    {
     "data": {
      "text/plain": [
       "array([[4, 4, 4, 4],\n",
       "       [4, 5, 6, 7]])"
      ]
     },
     "execution_count": 556,
     "metadata": {},
     "output_type": "execute_result"
    }
   ],
   "source": [
    "print(b*2)\n",
    "np.sqrt(b) \n",
    "np.maximum(b, 4)"
   ]
  },
  {
   "cell_type": "code",
   "execution_count": 560,
   "id": "8b0bb4b3-61d3-4cf9-9207-6ade11fe7c35",
   "metadata": {},
   "outputs": [
    {
     "data": {
      "text/plain": [
       "20"
      ]
     },
     "execution_count": 560,
     "metadata": {},
     "output_type": "execute_result"
    }
   ],
   "source": [
    "np.dot([1,2,3,4],[4,3,2,1])"
   ]
  },
  {
   "cell_type": "markdown",
   "id": "c8823ce8-33b6-4edb-94f6-598b799668f9",
   "metadata": {},
   "source": [
    "## Exercice \n",
    "\n",
    "### Exercice 1\n",
    "\n",
    "En utilisant `numpy`, faire une fonction permettant de calculer (sans boucles):\n",
    "\n",
    "$$\n",
    "\\sum_{k=1}^n k^2\n",
    "$$ \n",
    "\n",
    "\n"
   ]
  },
  {
   "cell_type": "code",
   "execution_count": null,
   "id": "4cf86f98-225e-46a9-98b7-2b84d4c3fb28",
   "metadata": {},
   "outputs": [],
   "source": []
  },
  {
   "cell_type": "code",
   "execution_count": 7,
   "id": "ff2f003d-c10d-48ed-bbc3-cd86e78e5912",
   "metadata": {},
   "outputs": [
    {
     "name": "stdout",
     "output_type": "stream",
     "text": [
      "55\n"
     ]
    }
   ],
   "source": [
    "import numpy as np\n",
    "\n",
    "def somme_carre(n) : \n",
    "    return np.sum(np.arange(0, n+1) ** 2)\n",
    "print(somme_carre(5)) "
   ]
  },
  {
   "cell_type": "markdown",
   "id": "dbff0ee2-c24a-430d-a95f-0ea41faf32a6",
   "metadata": {},
   "source": [
    "### Exercice 2\n",
    "\n",
    "Le tableau de l'Ã©noncÃ© donne la hauteur de pins blancs en fonction de leurs diamÃ¨tres. RÃ©Ã©crivez ce tableau dans un objet numpy.array et affichez :\n",
    "-    La hauteur moyenne,\n",
    "-    Le diamÃ¨tre moyen,\n",
    "-    Le diamÃ¨tre de lâ€™arbre le plus grand (on pourra utiliser `np.argmax`)."
   ]
  },
  {
   "cell_type": "code",
   "execution_count": 9,
   "id": "b8c005fd-0edb-4190-80be-9113284e8948",
   "metadata": {},
   "outputs": [
    {
     "name": "stdout",
     "output_type": "stream",
     "text": [
      "Hauteur moyenne : 119.2\n",
      "Diamètre moyen : 20.509999999999998\n",
      "Diamètre du plus grand arbre : 27.2\n"
     ]
    }
   ],
   "source": [
    "T = np.array([[127,119,135,132,130,130,110,75,110,124],\n",
    "              [21.2,20.2,24.6,23,27.2,19.6,17.3,10,19.7,22.3]])\n",
    "\n",
    "hauteur_moyenne = np.mean(T[0])\n",
    "diametre_moyen = np.mean(T[1])\n",
    "indice_max = np.argmax(T[1])\n",
    "diametre_plus_grand = T[1, indice_max]\n",
    "\n",
    "print(\"Hauteur moyenne :\", hauteur_moyenne)\n",
    "print(\"Diamètre moyen :\", diametre_moyen)\n",
    "print(\"Diamètre du plus grand arbre :\", diametre_plus_grand)"
   ]
  },
  {
   "cell_type": "markdown",
   "id": "72eddf35-f2a3-497f-98d7-32994efc8d8e",
   "metadata": {},
   "source": [
    "### Exercice 3\n",
    "\n",
    "On considÃ¨re la matrice $A \\in \\mathcal{M}_{3,4}(\\mathbb{R})$ dÃ©finie par\n",
    "\n",
    "$$\n",
    "A \\;=\\;\n",
    "\\begin{bmatrix}\n",
    "4 & 6 & -2 & 3 \\\\\n",
    "2 & -1 & 0 & 1 \\\\\n",
    "-7 & 0 & 1 & 12\n",
    "\\end{bmatrix}.\n",
    "$$\n",
    "\n",
    "#### 1) DÃ©finir $A$ comme un `np.array()`\n",
    "\n",
    "CrÃ©er la matrice $A$ en Python avec NumPy."
   ]
  },
  {
   "cell_type": "code",
   "execution_count": 12,
   "id": "93379e3c-42ba-4854-896b-b42373f8eca9",
   "metadata": {},
   "outputs": [],
   "source": [
    "A = np.array([[4, 6, -2, 3],\n",
    "                    [2, -1, 0, 1],\n",
    "                    [-7, 0, 1, 12]])"
   ]
  },
  {
   "cell_type": "markdown",
   "id": "4c91259b-9ef0-47b7-aae0-fde1286572ad",
   "metadata": {},
   "source": [
    "#### 2) Modifications de $A$\n",
    "\n",
    "* Multiplier **les deux premiÃ¨res lignes** de $A$ par $2$.\n",
    "* Diviser **la derniÃ¨re colonne** de $A$ par $3$."
   ]
  },
  {
   "cell_type": "code",
   "execution_count": 13,
   "id": "4b3ffa22-d1e5-41fc-8457-cab6c1664f7b",
   "metadata": {},
   "outputs": [],
   "source": [
    "A[0:1,:] = A[0:1,:] * 2\n",
    "A[:, -1] = A[:, -1] / 3 "
   ]
  },
  {
   "cell_type": "markdown",
   "id": "447c88d3-28d8-4860-82f9-5c87819227a0",
   "metadata": {},
   "source": [
    "#### 3) CrÃ©er la matrice $B$\n",
    "\n",
    "Construire la matrice\n",
    "\n",
    "$$\n",
    "B \\;=\\;\n",
    "\\begin{bmatrix}\n",
    "4 & 5 & 6 \\\\\n",
    "5 & 10 & 15 \\\\\n",
    "1 & 1 & 1\n",
    "\\end{bmatrix},\n",
    "$$\n",
    "\n",
    "en utilisant le fait que les **lignes 1 et 2** sont formÃ©es par des **suites arithmÃ©tiques** (voir `np.arange`) et la **ligne 3** par des **uns** (voir `np.ones()`)."
   ]
  },
  {
   "cell_type": "code",
   "execution_count": 16,
   "id": "99f3a142-b683-4630-8a8a-64a68f74efa2",
   "metadata": {},
   "outputs": [
    {
     "name": "stdout",
     "output_type": "stream",
     "text": [
      "[[ 4.  5.  6.]\n",
      " [ 5. 10. 15.]\n",
      " [ 1.  1.  1.]]\n"
     ]
    }
   ],
   "source": [
    "B = np.array([np.arange(4,7),\n",
    "              np.arange(5,16,5),\n",
    "              np.ones(3)])\n",
    "print(B)\n"
   ]
  },
  {
   "cell_type": "markdown",
   "id": "5b8bcaae-5292-481f-b911-01f68e90f9c8",
   "metadata": {},
   "source": [
    "#### 4) Extraire la matrice $C \\in \\mathcal{M}_{3,3}(\\mathbb{R})$\n",
    "\n",
    "DÃ©finir $C$ comme la sous-matrice de $A$ telle que, pour $1 \\le i,j \\le 3$, on ait $c_{ij} = a_{ij}$.\n"
   ]
  },
  {
   "cell_type": "code",
   "execution_count": 21,
   "id": "fad4a62f-201c-4af4-abaa-89dc530624cd",
   "metadata": {},
   "outputs": [
    {
     "data": {
      "text/plain": [
       "array([[ 8, 12, -4],\n",
       "       [ 2, -1,  0],\n",
       "       [-7,  0,  1]])"
      ]
     },
     "execution_count": 21,
     "metadata": {},
     "output_type": "execute_result"
    }
   ],
   "source": [
    "A[:3, :3]"
   ]
  },
  {
   "cell_type": "code",
   "execution_count": 22,
   "id": "35a1f779-23d2-4405-b8e5-4bf17ed0c47a",
   "metadata": {},
   "outputs": [
    {
     "name": "stdout",
     "output_type": "stream",
     "text": [
      "[[ 8 12 -4]\n",
      " [ 2 -1  0]\n",
      " [-7  0  1]]\n"
     ]
    }
   ],
   "source": [
    "C = A[:3, :3]\n",
    "print(C)"
   ]
  },
  {
   "cell_type": "markdown",
   "id": "b7c43bd4-43f1-437c-abf4-a6effbb7e446",
   "metadata": {},
   "source": [
    "#### 5) Produits matriciels\n",
    "\n",
    "RÃ©aliser le **produit matriciel** $D = BA$ (on pourra utiliser `np.dot()`).\n"
   ]
  },
  {
   "cell_type": "code",
   "execution_count": 23,
   "id": "1326a8df-f5ec-4874-ab7b-c7c696ddacea",
   "metadata": {},
   "outputs": [
    {
     "name": "stdout",
     "output_type": "stream",
     "text": [
      "[[  0.  43. -10.  32.]\n",
      " [-45.  50.  -5.  70.]\n",
      " [  3.  11.  -3.   6.]]\n"
     ]
    }
   ],
   "source": [
    "D = np.dot(B,A)\n",
    "print(D)"
   ]
  },
  {
   "cell_type": "markdown",
   "id": "8a78440b-bcb8-4dec-bdd4-f05a74eb537b",
   "metadata": {},
   "source": [
    "# Visulation avec `matplotlib`\n",
    "\n",
    "Il s'agit de la librairie la plus important pour la visualisation. \n",
    "\n",
    "Importation: "
   ]
  },
  {
   "cell_type": "code",
   "execution_count": 590,
   "id": "a8884936-410a-4d63-8ff4-4879c22a37c7",
   "metadata": {},
   "outputs": [],
   "source": [
    "import matplotlib.pyplot as plt"
   ]
  },
  {
   "cell_type": "markdown",
   "id": "f8d944c0-8ac5-4c81-adcb-437f6b9662d2",
   "metadata": {},
   "source": [
    "## Figure et axes\n",
    "\n",
    "On recommande d'utiliser `plt.subplots` pour initialiser un objet `Figure` et des objets `Axes`. "
   ]
  },
  {
   "cell_type": "code",
   "execution_count": 652,
   "id": "b2032b0b-d15a-45e2-aba0-921dabed822f",
   "metadata": {},
   "outputs": [
    {
     "data": {
      "image/png": "[encoded data removed]",
      "text/plain": [
       "<Figure size 640x480 with 1 Axes>"
      ]
     },
     "metadata": {},
     "output_type": "display_data"
    }
   ],
   "source": [
    "x = np.linspace(-4, 4, 200)\n",
    "y = 1/np.sqrt(2*np.pi)*np.exp(-x**2)\n",
    "\n",
    "fig, ax = plt.subplots()\n",
    "ax.plot(x, y)\n",
    "ax.set_title('Une premiÃ¨re fonction')\n",
    "plt.show()"
   ]
  },
  {
   "cell_type": "markdown",
   "id": "c247f84a-1b31-4ef1-a061-9109ab9f97cb",
   "metadata": {},
   "source": [
    "On peut faire plusieurs figures cÃ´tes Ã  cÃ´tes. "
   ]
  },
  {
   "cell_type": "code",
   "execution_count": 659,
   "id": "a948b697-efd3-46ec-a17e-2d8a1e7f72d5",
   "metadata": {},
   "outputs": [
    {
     "data": {
      "image/png": "[encoded data removed]",
      "text/plain": [
       "<Figure size 800x400 with 2 Axes>"
      ]
     },
     "metadata": {},
     "output_type": "display_data"
    }
   ],
   "source": [
    "y1 =  1/np.sqrt(4*np.pi)*np.exp(-x**2/4)\n",
    "fig, (ax1, ax2) = plt.subplots(nrows=1, ncols=2, figsize=(8,4))\n",
    "ax1.plot(x, y, color=\"C0\")\n",
    "ax2.plot(x, y1, color=\"red\")\n",
    "plt.show()"
   ]
  },
  {
   "cell_type": "markdown",
   "id": "147625ca-1247-4688-976e-aa3d39284da7",
   "metadata": {},
   "source": [
    "## Nuage de points\n",
    "\n",
    "C'est un scatter-plot obtenu par la mÃ©thode `scatter` d'un `Axes`. Exemple d'utilisation:"
   ]
  },
  {
   "cell_type": "code",
   "execution_count": 665,
   "id": "d833dfa0-3803-43c1-8b2c-d967e2bd5159",
   "metadata": {},
   "outputs": [
    {
     "data": {
      "text/plain": [
       "Text(0.5, 1.0, 'Nuage de points')"
      ]
     },
     "execution_count": 665,
     "metadata": {},
     "output_type": "execute_result"
    },
    {
     "data": {
      "image/png": "[encoded data removed]",
      "text/plain": [
       "<Figure size 640x480 with 1 Axes>"
      ]
     },
     "metadata": {},
     "output_type": "display_data"
    }
   ],
   "source": [
    "fig, ax = plt.subplots()\n",
    "ax.scatter(x, y)\n",
    "ax.set_title('Nuage de points')\n",
    "\n"
   ]
  },
  {
   "cell_type": "markdown",
   "id": "47fe02cc-8cc5-4772-8afb-ec1ac9917ba1",
   "metadata": {},
   "source": [
    " ## Fonctions utiles en statistiques \n",
    "\n",
    "Pour visualiser la distribution empirique associÃ©e Ã  des rÃ©alisations de variables alÃ©atoires *i.i.d* on utilisera \n",
    "- un histogramme ( mÃ©thode `hist` d'un `Axes`) lorsque les variables alÃ©atoires sont continues\n",
    "- un diagramme en bÃ¢tons (mÃ©thode `bar` d'un `Axes`) pour des variables alÃ©atoires discrÃ¨tes.\n",
    "\n",
    "Un premier exemple: "
   ]
  },
  {
   "cell_type": "code",
   "execution_count": 686,
   "id": "1f624728-acf9-4659-9767-0ca7a092719e",
   "metadata": {},
   "outputs": [],
   "source": [
    "from numpy.random import default_rng\n",
    "rng = default_rng()"
   ]
  },
  {
   "cell_type": "code",
   "execution_count": 688,
   "id": "60987f26-16b8-4383-8ebc-c20cc9772bb5",
   "metadata": {},
   "outputs": [],
   "source": [
    "size = 100000\n",
    "sample = rng.random(size=size)"
   ]
  },
  {
   "cell_type": "code",
   "execution_count": 694,
   "id": "d1c904fe-0e6a-4f9e-9f31-a83618e6e8c3",
   "metadata": {},
   "outputs": [
    {
     "data": {
      "text/plain": [
       "Text(0.5, 1.0, 'Histogramme')"
      ]
     },
     "execution_count": 694,
     "metadata": {},
     "output_type": "execute_result"
    },
    {
     "data": {
      "image/png": "[encoded data removed]",
      "text/plain": [
       "<Figure size 640x480 with 1 Axes>"
      ]
     },
     "metadata": {},
     "output_type": "display_data"
    }
   ],
   "source": [
    "fig, ax = plt.subplots()\n",
    "ax.hist(sample, bins=20,density=True)\n",
    "ax.set_title('Histogramme')"
   ]
  },
  {
   "cell_type": "markdown",
   "id": "7dd161e5-8c8f-4ace-8a89-10034d7eca63",
   "metadata": {},
   "source": [
    "# ProblÃ¨me : Simulation de la loi uniforme â€” GÃ©nÃ©rateur congruentiel linÃ©aire (LCG)"
   ]
  },
  {
   "cell_type": "markdown",
   "id": "b385a54c-c507-4741-865c-e6088aed4c84",
   "metadata": {},
   "source": [
    "Les premiers algorithmes de simulation de la loi uniforme (c'est Ã  dire pour gÃ©nÃ©rer des rÃ©alisations **indÃ©pendantes** \"au hasard\" en 0 et 1) Ã©taient basÃ©s sur la **congruence** (Lehmer, 1950). Le principe :\n",
    "\n",
    "* Utiliser trois paramÃ¨tres entiers $a$, $c$, $m$ et une valeur initiale $y_0$ (*seed*).\n",
    "* CrÃ©er une suite dâ€™entiers\n",
    "\n",
    "  $$\n",
    "  y_{n+1} = (a\\,y_n + c) \\bmod m\n",
    "  $$\n",
    "\n",
    "  avec $y_n \\in \\{0,\\dots,m-1\\}$.\n",
    "* Ramener les valeurs entre 0 et 1 : $x_n = y_n/m$.\n",
    "\n"
   ]
  },
  {
   "cell_type": "markdown",
   "id": "778b67c5-3f37-4f4e-86ed-34bdce02e71e",
   "metadata": {},
   "source": [
    "## Question 1\n",
    "\n",
    "Ã‰crire une fonction Python ayant pour paramÃ¨tres $N \\in \\mathbb{N}$, $a$, $c$, $m$ et $y_0$, qui **renvoie un array 2D** des $N$ premiÃ¨res rÃ©alisations de $(y_i)$ et de $(x_i)$."
   ]
  },
  {
   "cell_type": "markdown",
   "id": "25e52d43-7879-4d40-8c05-76be0f722ef9",
   "metadata": {},
   "source": [
    "## Question 2 \n",
    "\n",
    "Tester avec $a = 13$, $c = 0$, $m = 31$, $y_0 = 1$.\n",
    "\n",
    "Tracer le **nuage de points** $(x_i, x_{i+1})$ pour $i = 0, \\dots, N-2$.\n",
    "\n",
    "**Question :** que remarque-t-on ?"
   ]
  },
  {
   "cell_type": "markdown",
   "id": "71fd0801-578a-4d24-a0fd-16afa6e3af29",
   "metadata": {},
   "source": [
    "## Question 3\n",
    "\n",
    "Dans les annÃ©es 60, sur IBM, le *Scientific Subroutine Package (SSP)* utilisait $a = 65539$, $c = 0$, $m = 2^{32}$.\n",
    "\n",
    "Tracer le **nuage de points** $(x_i, x_{i+1})$ pour $i = 0, \\dots, N-2$ et **l'histograme** des $x_i$.\n",
    "\n",
    "**Question :** que pensez-vous de la **qualitÃ©** de la simulation? "
   ]
  },
  {
   "cell_type": "markdown",
   "id": "078ba570-e3ef-430c-b4df-403ec15dbd58",
   "metadata": {},
   "source": [
    "## Question 4\n",
    "\n",
    "VÃ©rifier que $x_{k+2} - 6x_{k+1} + 9x_k$ sont tous **entiers**. Ainsi\n",
    "\n",
    "$$\n",
    "-6 < x_{k+2} - 6x_{k+1} + 9x_k < 10.\n",
    "$$\n",
    "\n",
    "**Question :** quel problÃ¨me cela implique-t-il?\n"
   ]
  },
  {
   "cell_type": "markdown",
   "id": "46c7745c-c7d2-457c-b178-e5d2c8c769d9",
   "metadata": {},
   "source": [
    "## Question 5\n",
    "\n",
    "Ã€ partir des annÃ©es 1990, lâ€™algorithme appelÃ© â€œstandard minimalâ€ choisit : \n",
    "$a = 7^5$,  $c = 0$, $m = 2^31 âˆ’ 1$. \n",
    "\n",
    "Reprendre la question 3 avec ces chiffres."
   ]
  },
  {
   "cell_type": "code",
   "execution_count": null,
   "id": "1e7e073a-d64e-4c9b-9169-bb4ddcd0f84c",
   "metadata": {},
   "outputs": [],
   "source": []
  }
 ],
 "metadata": {
  "kernelspec": {
   "display_name": "Python 3 (ipykernel)",
   "language": "python",
   "name": "python3"
  },
  "language_info": {
   "codemirror_mode": {
    "name": "ipython",
    "version": 3
   },
   "file_extension": ".py",
   "mimetype": "text/x-python",
   "name": "python",
   "nbconvert_exporter": "python",
   "pygments_lexer": "ipython3",
   "version": "3.13.7"
  }
 },
 "nbformat": 4,
 "nbformat_minor": 5
}
